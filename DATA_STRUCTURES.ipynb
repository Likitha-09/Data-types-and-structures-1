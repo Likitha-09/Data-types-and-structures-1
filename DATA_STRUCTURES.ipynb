{
  "nbformat": 4,
  "nbformat_minor": 0,
  "metadata": {
    "colab": {
      "provenance": []
    },
    "kernelspec": {
      "name": "python3",
      "display_name": "Python 3"
    },
    "language_info": {
      "name": "python"
    }
  },
  "cells": [
    {
      "cell_type": "markdown",
      "source": [
        "1. What are data structures, and why are they important?\n",
        "\n",
        "\n",
        "Data structures are for organizing, storing, and accessing collections of data.\n",
        "If we choose exact data structure,Simplify data manipulation (adding, removing, modifying elements)\n",
        "Optimize searching and sorting operations."
      ],
      "metadata": {
        "id": "mrTQn3PSFHFo"
      }
    },
    {
      "cell_type": "markdown",
      "source": [
        "2. Explain the difference between mutable and immutable data types with examples?\n",
        "\n",
        "Mutable is objects whose state value can be changed after they are created. For example- list is the mutable .\n",
        "Immutable is objects whose state value will not change aftert hey are created. For example- tuple is immutable."
      ],
      "metadata": {
        "id": "7bSAanjXF-Xv"
      }
    },
    {
      "cell_type": "markdown",
      "source": [
        "3. What are the main differences between lists and tuples in Python?\n",
        "\n",
        "\n",
        "The difference between lists and tuples are,List is a ordered collection and we change the value of assignment.It is mutable. Tuples is a ordered collection and it will not accept item assignment. we cannot modify the data. It is immutable."
      ],
      "metadata": {
        "id": "RYeRG1sIGDWb"
      }
    },
    {
      "cell_type": "markdown",
      "source": [
        "4.  Describe how dictionaries store data?\n",
        "\n",
        "\n",
        "Dictionaries store the data in key value pair. It is uniquie identifier for retrieving an associated value."
      ],
      "metadata": {
        "id": "e4fxIfZNGIyj"
      }
    },
    {
      "cell_type": "markdown",
      "source": [
        "5. Why might you use a set instead of a list in Python?\n",
        "\n",
        "We use set instead of list in pyton to efficiently remove duplicate values from a collection like a list and to perform common math operations like unions and intersections and symmetric operations.\n",
        "\n",
        "\n"
      ],
      "metadata": {
        "id": "unjHBD3LGMun"
      }
    },
    {
      "cell_type": "markdown",
      "source": [
        "6. What is a string in Python, and how is it different from a list?\n",
        "\n",
        " Strings in Python are sequences of characters enclosed in quotes (\"\"). Lists are ordered collections of items enclosed in square brackets [].\n",
        " Strings are immutable, meaning they cannot be changed once created, while lists are mutable and can be modified as needed.\n"
      ],
      "metadata": {
        "id": "R-IMpKD0Ipzg"
      }
    },
    {
      "cell_type": "markdown",
      "source": [
        "7. How do tuples ensure data integrity in Python?\n",
        "\n",
        "Tuples are immutable to ensure that their contents remain constant throughout their lifecycle, guaranteeing data integrity .\n",
        "\n",
        "\n"
      ],
      "metadata": {
        "id": "v1--HYGQJD2d"
      }
    },
    {
      "cell_type": "markdown",
      "source": [
        "8. What is a hash table, and how does it relate to dictionaries in Python?\n",
        "\n",
        "Hash table is implemented as a dictionary data type. A hash table is a data structure that stores key-value pairs, and dictionaries are a type of hash table"
      ],
      "metadata": {
        "id": "cv94R3hGJUSJ"
      }
    },
    {
      "cell_type": "markdown",
      "source": [
        "9. Can lists contain different data types in Python?\n",
        "\n",
        " Lists containes different type of data types they are string, flaot, boolean,integers."
      ],
      "metadata": {
        "id": "ZkwxV2dZJpyB"
      }
    },
    {
      "cell_type": "markdown",
      "source": [
        "10.  Explain why strings are immutable in Python?\n",
        "\n",
        "Strings are immutable. It will not change once created, that is the reason strings are immutable."
      ],
      "metadata": {
        "id": "Sq73PLl6KB3d"
      }
    },
    {
      "cell_type": "markdown",
      "source": [
        "11. What advantages do dictionaries offer over lists for certain tasks?\n",
        "\n",
        "Dictionaries are faster than lists for lookups and are ideal for tasks that require frequent searches. They are also more flexible and can store complex data structures.\n",
        "\n"
      ],
      "metadata": {
        "id": "0weTuNACKj4z"
      }
    },
    {
      "cell_type": "markdown",
      "source": [
        "12. Describe a scenario where using a tuple would be preferable over a list?\n",
        "\n",
        "Tuple is immutable where we cannot change the store date in it. Whenever you need data storage for permanently we use tuples instead of lists.For example addhar card id, pan card. Tuple is more preferable than list."
      ],
      "metadata": {
        "id": "Cq_FwmV6K3tq"
      }
    },
    {
      "cell_type": "markdown",
      "source": [
        "13. How do sets handle duplicate values in Python?\n",
        "\n",
        "Sets donot contain duplicates, converting a list to a set automatically removes any duplicate elements."
      ],
      "metadata": {
        "id": "ShRlNIAiL2Sm"
      }
    },
    {
      "cell_type": "markdown",
      "source": [
        "14.  How does the “in” keyword work differently for lists and dictionaries?\n",
        "\n",
        "The key of the dictionary is a unique value as well as the set, and the execution time is about the same as for sets. On the other hand, dictionary values can be duplicated like a list."
      ],
      "metadata": {
        "id": "1HwIZDsyMJ1u"
      }
    },
    {
      "cell_type": "markdown",
      "source": [
        "15. Can you modify the elements of a tuple? Explain why or why not?\n",
        "\n",
        "No, we cannot modify the elements of tuple because they are immutable ones created cannot be changed."
      ],
      "metadata": {
        "id": "WUqSr40WMpCl"
      }
    },
    {
      "cell_type": "markdown",
      "source": [
        "16. What is a nested dictionary, and give an example of its use case?\n",
        "\n",
        "A nested dictionary is a dictionary that is stored within another dictionary. It's a data structure that can be used to store complex data with multiple layers of organization."
      ],
      "metadata": {
        "id": "bJkfOYfONNKV"
      }
    },
    {
      "cell_type": "markdown",
      "source": [
        "17. Describe the time complexity of accessing elements in a dictionary?\n",
        "\n",
        "The time complexity of accessing an element in a Python dictionary is \\(O(1)\\), which means it's very fast. This is because Python dictionaries use a hash table internally, which allows for constant time lookup\n"
      ],
      "metadata": {
        "id": "UwJ8MgHwNqYZ"
      }
    },
    {
      "cell_type": "markdown",
      "source": [
        "18.  In what situations are lists preferred over dictionaries?\n",
        "\n",
        "For ordered collections and sequence operations, such as maintaining a stack or queue, lists are more suitable.\n"
      ],
      "metadata": {
        "id": "kJM692G0N-zq"
      }
    },
    {
      "cell_type": "markdown",
      "source": [
        "19. Why are dictionaries considered unordered, and how does that affect data retrieval?\n",
        "\n",
        "A dictionary is termed an unordered collection of objects because dictionaries do not maintain any inherent order of the items based.\n",
        "\n"
      ],
      "metadata": {
        "id": "gRdkEQzOOO8r"
      }
    },
    {
      "cell_type": "markdown",
      "source": [
        "20. Explain the difference between a list and a dictionary in terms of data retrieval?\n",
        "\n",
        "lists are accessed using indices, while dictionaries are accessed using keys.\n"
      ],
      "metadata": {
        "id": "SdivD8UBOlyJ"
      }
    },
    {
      "cell_type": "markdown",
      "source": [
        "#PRACTICAL QUESTIONS"
      ],
      "metadata": {
        "id": "VnzhZK59OzJ4"
      }
    },
    {
      "cell_type": "code",
      "source": [
        "#Write a code to create a string with your name and print it\n",
        "Name = \"Raju\"\n",
        "print(Name)\n"
      ],
      "metadata": {
        "colab": {
          "base_uri": "https://localhost:8080/"
        },
        "id": "GoPXw4CRP1ck",
        "outputId": "678f64c6-b682-4ef6-84b3-168154ad3875"
      },
      "execution_count": 14,
      "outputs": [
        {
          "output_type": "stream",
          "name": "stdout",
          "text": [
            "Raju\n"
          ]
        }
      ]
    },
    {
      "cell_type": "code",
      "source": [
        "#Write a code to find the length of the string \"Hello World\"\n",
        "\n",
        "Name = \"rose\"\n",
        "print(len(Name))"
      ],
      "metadata": {
        "id": "LX5JIhZ9RCIf",
        "outputId": "65cf6a0d-757f-4380-b9a4-36d66f2ed6d1",
        "colab": {
          "base_uri": "https://localhost:8080/"
        }
      },
      "execution_count": 15,
      "outputs": [
        {
          "output_type": "stream",
          "name": "stdout",
          "text": [
            "4\n"
          ]
        }
      ]
    },
    {
      "cell_type": "code",
      "source": [
        "#Write a code to slice the first 3 characters from the string \"Python Programming\"\n",
        "\n",
        "string = \"Python Programming\"\n",
        "sliced_string = string[:3]\n",
        "print(sliced_string)"
      ],
      "metadata": {
        "id": "zZQrgiPIRXjY",
        "outputId": "63864f09-e3bf-4081-a2cc-15234f740b18",
        "colab": {
          "base_uri": "https://localhost:8080/"
        }
      },
      "execution_count": 16,
      "outputs": [
        {
          "output_type": "stream",
          "name": "stdout",
          "text": [
            "Pyt\n"
          ]
        }
      ]
    },
    {
      "cell_type": "code",
      "source": [
        "#Write a code to convert the string \"hello\" to uppercase\n",
        "\n",
        "Name = \"hello\"\n",
        "print(Name.upper())"
      ],
      "metadata": {
        "id": "H6RlDJpKR2Ll",
        "outputId": "32ec2ae6-0316-4aff-90bf-8a166451acdc",
        "colab": {
          "base_uri": "https://localhost:8080/"
        }
      },
      "execution_count": 19,
      "outputs": [
        {
          "output_type": "stream",
          "name": "stdout",
          "text": [
            "HELLO\n"
          ]
        }
      ]
    },
    {
      "cell_type": "code",
      "source": [
        "#Write a code to replace the word \"apple\" with \"orange\" in the string \"I like apple\"\n",
        "\n",
        "string = \"I like apple\"\n",
        "new_string = string.replace(\"apple\", \"orange\")\n",
        "print(new_string)"
      ],
      "metadata": {
        "id": "H_gaRZ2ySTc2",
        "outputId": "0aff2926-cfc4-4694-f219-60627141f205",
        "colab": {
          "base_uri": "https://localhost:8080/"
        }
      },
      "execution_count": 20,
      "outputs": [
        {
          "output_type": "stream",
          "name": "stdout",
          "text": [
            "I like orange\n"
          ]
        }
      ]
    },
    {
      "cell_type": "code",
      "source": [
        "#Write a code to create a list with numbers 1 to 5 and print it?\n",
        "\n",
        "list = [1,2,3,4,5]\n",
        "list"
      ],
      "metadata": {
        "id": "2YT8-7LaSqJK",
        "outputId": "38210d48-dcaf-4ec4-cb30-03287b0d16fd",
        "colab": {
          "base_uri": "https://localhost:8080/"
        }
      },
      "execution_count": 24,
      "outputs": [
        {
          "output_type": "execute_result",
          "data": {
            "text/plain": [
              "[1, 2, 3, 4, 5]"
            ]
          },
          "metadata": {},
          "execution_count": 24
        }
      ]
    },
    {
      "cell_type": "code",
      "source": [
        "#Write a code to append the number 10 to the list [1, 2, 3, 4]\n",
        "\n",
        "list = [1,2,3,4]\n",
        "list.append(10)\n",
        "list\n"
      ],
      "metadata": {
        "id": "VuDVC-MKS5Ug",
        "outputId": "649f8590-b24e-4dee-aad6-f0012f8bdc69",
        "colab": {
          "base_uri": "https://localhost:8080/"
        }
      },
      "execution_count": 23,
      "outputs": [
        {
          "output_type": "execute_result",
          "data": {
            "text/plain": [
              "[1, 2, 3, 4, 10]"
            ]
          },
          "metadata": {},
          "execution_count": 23
        }
      ]
    },
    {
      "cell_type": "code",
      "source": [
        "#Write a code to remove the number 3 from the list [1, 2, 3, 4, 5]\n",
        "\n",
        "list = [1,2,3,4,5]\n",
        "list.remove(3)\n",
        "list"
      ],
      "metadata": {
        "id": "5yjECo_dTS9-",
        "outputId": "e070fa77-c173-46f9-f8d5-ec1793cc5ad5",
        "colab": {
          "base_uri": "https://localhost:8080/"
        }
      },
      "execution_count": 25,
      "outputs": [
        {
          "output_type": "execute_result",
          "data": {
            "text/plain": [
              "[1, 2, 4, 5]"
            ]
          },
          "metadata": {},
          "execution_count": 25
        }
      ]
    },
    {
      "cell_type": "code",
      "source": [
        "#Write a code to access the second element in the list ['a', 'b', 'c', 'd']\n",
        "\n",
        "list = ['a','b','c','d']\n",
        "list[1]"
      ],
      "metadata": {
        "id": "e7C--TTCTgXJ",
        "outputId": "9bb9bfbd-bc26-4a75-8c2b-3c88dcf9c5ea",
        "colab": {
          "base_uri": "https://localhost:8080/",
          "height": 36
        }
      },
      "execution_count": 26,
      "outputs": [
        {
          "output_type": "execute_result",
          "data": {
            "text/plain": [
              "'b'"
            ],
            "application/vnd.google.colaboratory.intrinsic+json": {
              "type": "string"
            }
          },
          "metadata": {},
          "execution_count": 26
        }
      ]
    },
    {
      "cell_type": "code",
      "source": [
        "#Write a code to reverse the list [10, 20, 30, 40, 50]\n",
        "\n",
        "list = [10,20,30,40,50]\n",
        "list.reverse()\n",
        "list"
      ],
      "metadata": {
        "id": "ofesCyHhTuhh",
        "outputId": "dcfab72d-a6c9-4b63-934b-5921212cf49b",
        "colab": {
          "base_uri": "https://localhost:8080/"
        }
      },
      "execution_count": 27,
      "outputs": [
        {
          "output_type": "execute_result",
          "data": {
            "text/plain": [
              "[50, 40, 30, 20, 10]"
            ]
          },
          "metadata": {},
          "execution_count": 27
        }
      ]
    },
    {
      "cell_type": "code",
      "source": [
        "#Write a code to create a tuple with the elements 100, 200, 300 and print it\n",
        "\n",
        "tuple = (100,200,300)\n",
        "tuple"
      ],
      "metadata": {
        "id": "njtdPRobUCDZ",
        "outputId": "ce95023a-22c9-4dd8-9fbc-dc303f0132b4",
        "colab": {
          "base_uri": "https://localhost:8080/"
        }
      },
      "execution_count": 28,
      "outputs": [
        {
          "output_type": "execute_result",
          "data": {
            "text/plain": [
              "(100, 200, 300)"
            ]
          },
          "metadata": {},
          "execution_count": 28
        }
      ]
    },
    {
      "cell_type": "code",
      "source": [
        "#Write a code to access the second-to-last element of the tuple ('red', 'green', 'blue', 'yellow')\n",
        "\n",
        "tuple = ('red', 'green', 'blue', 'yellow')\n",
        "tuple[2]\n"
      ],
      "metadata": {
        "id": "3rQFmHaRUJjS",
        "outputId": "02dcd9f6-b2a7-4ba0-f7b6-bcfef03ab553",
        "colab": {
          "base_uri": "https://localhost:8080/",
          "height": 36
        }
      },
      "execution_count": 30,
      "outputs": [
        {
          "output_type": "execute_result",
          "data": {
            "text/plain": [
              "'blue'"
            ],
            "application/vnd.google.colaboratory.intrinsic+json": {
              "type": "string"
            }
          },
          "metadata": {},
          "execution_count": 30
        }
      ]
    },
    {
      "cell_type": "code",
      "source": [
        "#Write a code to find the minimum number in the tuple (10, 20, 5, 15)\n",
        "\n",
        "tuple = (10,20,5,15)\n",
        "min(tuple)"
      ],
      "metadata": {
        "id": "FnuvPKy3Umxm",
        "outputId": "9cee5cc1-34b0-41d2-cdfa-54576c237c8f",
        "colab": {
          "base_uri": "https://localhost:8080/"
        }
      },
      "execution_count": 31,
      "outputs": [
        {
          "output_type": "execute_result",
          "data": {
            "text/plain": [
              "5"
            ]
          },
          "metadata": {},
          "execution_count": 31
        }
      ]
    },
    {
      "cell_type": "code",
      "source": [
        "#Write a code to find the index of the element \"cat\" in the tuple ('dog', 'cat', 'rabbit').\n",
        "\n",
        "tuple = ('dog', 'cat', 'rabbit')\n",
        "tuple.index('cat')"
      ],
      "metadata": {
        "id": "eB3sBu1HU-Ki",
        "outputId": "19626c8c-7401-4660-e71e-371c80ba6bb2",
        "colab": {
          "base_uri": "https://localhost:8080/"
        }
      },
      "execution_count": 32,
      "outputs": [
        {
          "output_type": "execute_result",
          "data": {
            "text/plain": [
              "1"
            ]
          },
          "metadata": {},
          "execution_count": 32
        }
      ]
    },
    {
      "cell_type": "code",
      "source": [
        "#Write a code to create a tuple containing three different fruits and check if \"kiwi\" is in it.\n",
        "\n",
        "tuple = ('apple','banana','kiwi')\n",
        "'kiwi' in tuple\n"
      ],
      "metadata": {
        "id": "eqeSXEOCVE_-",
        "outputId": "90aba69b-7657-4008-91eb-1605735a4ca6",
        "colab": {
          "base_uri": "https://localhost:8080/"
        }
      },
      "execution_count": 33,
      "outputs": [
        {
          "output_type": "execute_result",
          "data": {
            "text/plain": [
              "True"
            ]
          },
          "metadata": {},
          "execution_count": 33
        }
      ]
    },
    {
      "cell_type": "code",
      "source": [
        "#Write a code to create a set with the elements 'a', 'b', 'c' and print it\n",
        "\n",
        "set = {'a','b','c'}\n",
        "set"
      ],
      "metadata": {
        "id": "frPLGRL_VMIL",
        "outputId": "99bbc668-9694-45c1-ba7a-d4d4e2f07a06",
        "colab": {
          "base_uri": "https://localhost:8080/"
        }
      },
      "execution_count": 34,
      "outputs": [
        {
          "output_type": "execute_result",
          "data": {
            "text/plain": [
              "{'a', 'b', 'c'}"
            ]
          },
          "metadata": {},
          "execution_count": 34
        }
      ]
    },
    {
      "cell_type": "code",
      "source": [
        "#Write a code to clear all elements from the set {1, 2, 3, 4, 5}\n",
        "\n",
        "set = {1,2,3,4,5}\n",
        "set.clear()\n",
        "set"
      ],
      "metadata": {
        "id": "8G0NXf98VTRr",
        "outputId": "816aa956-8957-4b8e-a24f-7ffdf1f99079",
        "colab": {
          "base_uri": "https://localhost:8080/"
        }
      },
      "execution_count": 35,
      "outputs": [
        {
          "output_type": "execute_result",
          "data": {
            "text/plain": [
              "set()"
            ]
          },
          "metadata": {},
          "execution_count": 35
        }
      ]
    },
    {
      "cell_type": "code",
      "source": [
        "#Write a code to remove the element 4 from the set {1, 2, 3, 4}\n",
        "\n",
        "my_set = {1, 2, 3, 4}\n",
        "my_set.remove(4)\n",
        "print(my_set)"
      ],
      "metadata": {
        "id": "Ye1J75PKVZ7f",
        "outputId": "f812939a-a5c9-4e33-e50e-7c01e6507a0c",
        "colab": {
          "base_uri": "https://localhost:8080/"
        }
      },
      "execution_count": 36,
      "outputs": [
        {
          "output_type": "stream",
          "name": "stdout",
          "text": [
            "{1, 2, 3}\n"
          ]
        }
      ]
    },
    {
      "cell_type": "code",
      "source": [
        "#Write a code to find the union of two sets {1, 2, 3} and {3, 4, 5}\n",
        "\n",
        "set1 = {1,2,3}\n",
        "set2 = {3,4,5}\n",
        "set1.union(set2)"
      ],
      "metadata": {
        "id": "PBvCsvrhVhTN",
        "outputId": "898a8a45-a535-4c0b-c118-80f6efb04be8",
        "colab": {
          "base_uri": "https://localhost:8080/"
        }
      },
      "execution_count": 37,
      "outputs": [
        {
          "output_type": "execute_result",
          "data": {
            "text/plain": [
              "{1, 2, 3, 4, 5}"
            ]
          },
          "metadata": {},
          "execution_count": 37
        }
      ]
    },
    {
      "cell_type": "code",
      "source": [
        "#Write a code to find the intersection of two sets {1, 2, 3} and {2, 3, 4}\n",
        "\n",
        "set1 = {1,2,3}\n",
        "set2 = {2,3,4}\n",
        "set1.intersection(set2)"
      ],
      "metadata": {
        "id": "gzYlhArLVmDm",
        "outputId": "cf7b13b4-324b-4d1e-8673-0421b511bbdb",
        "colab": {
          "base_uri": "https://localhost:8080/"
        }
      },
      "execution_count": 38,
      "outputs": [
        {
          "output_type": "execute_result",
          "data": {
            "text/plain": [
              "{2, 3}"
            ]
          },
          "metadata": {},
          "execution_count": 38
        }
      ]
    },
    {
      "cell_type": "code",
      "source": [
        "#Write a code to create a dictionary with the keys \"name\", \"age\", and \"city\", and print it\n",
        "\n",
        "my_dict = {\n",
        "    \"name\": \"ram\",\n",
        "    \"age\": 40,\n",
        "    \"city\": \"hyderabad\"\n",
        "}\n",
        "print(my_dict)"
      ],
      "metadata": {
        "id": "QXfnGz-sVsak",
        "outputId": "a656b5be-2b4b-4657-9387-4339a0ed13dd",
        "colab": {
          "base_uri": "https://localhost:8080/"
        }
      },
      "execution_count": 39,
      "outputs": [
        {
          "output_type": "stream",
          "name": "stdout",
          "text": [
            "{'name': 'ram', 'age': 40, 'city': 'hyderabad'}\n"
          ]
        }
      ]
    },
    {
      "cell_type": "code",
      "source": [
        "#Write a code to add a new key-value pair \"country\": \"USA\" to the dictionary {'name': 'John', 'age': 25}\n",
        "\n",
        "my_dict = {'name': 'John', 'age': 25}\n",
        "my_dict['country'] = 'USA'\n",
        "print(my_dict)"
      ],
      "metadata": {
        "id": "PevgphMTV6L_",
        "outputId": "d24e7227-a94e-4ed0-be11-48000cb89028",
        "colab": {
          "base_uri": "https://localhost:8080/"
        }
      },
      "execution_count": 40,
      "outputs": [
        {
          "output_type": "stream",
          "name": "stdout",
          "text": [
            "{'name': 'John', 'age': 25, 'country': 'USA'}\n"
          ]
        }
      ]
    },
    {
      "cell_type": "code",
      "source": [
        "#Write a code to access the value associated with the key \"name\" in the dictionary {'name': 'Alice', 'age': 30}.\n",
        "\n",
        "my_dict = {'name': 'Alice', 'age': 30}\n",
        "print(my_dict['name'])\n"
      ],
      "metadata": {
        "id": "Yv0Y5kzHWDqa",
        "outputId": "62caf53c-f82a-4b64-f5e0-e996399c0f89",
        "colab": {
          "base_uri": "https://localhost:8080/"
        }
      },
      "execution_count": 41,
      "outputs": [
        {
          "output_type": "stream",
          "name": "stdout",
          "text": [
            "Alice\n"
          ]
        }
      ]
    },
    {
      "cell_type": "code",
      "source": [
        "#Write a code to remove the key \"age\" from the dictionary {'name': 'Bob', 'age': 22, 'city': 'New York'}.\n",
        "\n",
        "my_dict = {'name': 'Bob', 'age': 22, 'city': 'New York'}\n",
        "del my_dict['age']\n",
        "print(my_dict)\n"
      ],
      "metadata": {
        "id": "evqOINZ4WPjf",
        "outputId": "eab50e22-352f-4ee9-a0b8-1457f62a1b33",
        "colab": {
          "base_uri": "https://localhost:8080/"
        }
      },
      "execution_count": 42,
      "outputs": [
        {
          "output_type": "stream",
          "name": "stdout",
          "text": [
            "{'name': 'Bob', 'city': 'New York'}\n"
          ]
        }
      ]
    },
    {
      "cell_type": "code",
      "source": [
        "#Write a code to check if the key \"city\" exists in the dictionary {'name': 'Alice', 'city': 'Paris'}.\n",
        "\n",
        "my_dict = {'name': 'Alice', 'city': 'Paris'}\n",
        "if 'city' in my_dict:\n",
        "    print(\"The key 'city' exists in the dictionary.\")\n",
        "else:\n",
        "    print(\"The key 'city' does not exist in the dictionary.\")"
      ],
      "metadata": {
        "id": "ST95jufFWZEC",
        "outputId": "eaf1aef7-b202-4a8a-f145-1f8b0c5e1dcd",
        "colab": {
          "base_uri": "https://localhost:8080/"
        }
      },
      "execution_count": 43,
      "outputs": [
        {
          "output_type": "stream",
          "name": "stdout",
          "text": [
            "The key 'city' exists in the dictionary.\n"
          ]
        }
      ]
    },
    {
      "cell_type": "code",
      "source": [
        "#Write a code to create a list, a tuple, and a dictionary, and print them all.\n",
        "\n",
        "list = [1,2,3,4]\n",
        "tuple = (1,2,3,4)\n",
        "my_dict = {\n",
        "    \"name\": \"ram\",\n",
        "    \"age\": 40,\n",
        "    \"city\": \"hyderabad\"\n",
        "}\n",
        "print(list)\n",
        "print(tuple)\n",
        "print(my_dict)\n"
      ],
      "metadata": {
        "id": "5fPxk95FWiao",
        "outputId": "87bb76cb-0b62-4444-ac99-080ca6d332c6",
        "colab": {
          "base_uri": "https://localhost:8080/"
        }
      },
      "execution_count": 48,
      "outputs": [
        {
          "output_type": "stream",
          "name": "stdout",
          "text": [
            "[1, 2, 3, 4]\n",
            "(1, 2, 3, 4)\n",
            "{'name': 'ram', 'age': 40, 'city': 'hyderabad'}\n"
          ]
        }
      ]
    },
    {
      "cell_type": "code",
      "source": [
        "#Write a code to create a list of 5 random numbers between 1 and 100, sort it in ascending order, and print the\n",
        "\n",
        "\n",
        "book_list = [1,3,40,2,50]\n",
        "book_list.sort()\n",
        "book_list\n"
      ],
      "metadata": {
        "id": "3gl-M8nhXg7L",
        "outputId": "d94ee6a4-cb80-4971-a1cb-ef06203225f4",
        "colab": {
          "base_uri": "https://localhost:8080/"
        }
      },
      "execution_count": 57,
      "outputs": [
        {
          "output_type": "execute_result",
          "data": {
            "text/plain": [
              "[1, 2, 3, 40, 50]"
            ]
          },
          "metadata": {},
          "execution_count": 57
        }
      ]
    },
    {
      "cell_type": "code",
      "source": [
        "#Write a code to create a list with strings and print the element at the third index.\n",
        "\n",
        "list = [1,2,3,4]\n",
        "list.insert(3,\"orange\")\n",
        "print(list[3])"
      ],
      "metadata": {
        "id": "oLsZ9AREYq1h",
        "outputId": "717e07b6-d1a6-46f0-c979-a620eec0d64a",
        "colab": {
          "base_uri": "https://localhost:8080/"
        }
      },
      "execution_count": 59,
      "outputs": [
        {
          "output_type": "stream",
          "name": "stdout",
          "text": [
            "orange\n"
          ]
        }
      ]
    },
    {
      "cell_type": "code",
      "source": [
        "list"
      ],
      "metadata": {
        "id": "ZbZhvhfNZoDQ",
        "outputId": "57e8d8c8-5d90-43cd-8ef7-98f8a67d8331",
        "colab": {
          "base_uri": "https://localhost:8080/"
        }
      },
      "execution_count": 60,
      "outputs": [
        {
          "output_type": "execute_result",
          "data": {
            "text/plain": [
              "[1, 2, 3, 'orange', 4]"
            ]
          },
          "metadata": {},
          "execution_count": 60
        }
      ]
    },
    {
      "cell_type": "code",
      "source": [
        "#Write a code to combine two dictionaries into one and print the result.\n",
        "\n",
        "dict1 = {'a': 15, 'b': 80}\n",
        "dict2 = {'c': 35, 'd': 40}\n",
        "combined_dict = {**dict1, **dict2}\n",
        "print(combined_dict)"
      ],
      "metadata": {
        "id": "fQ6b-AHgZqW6",
        "outputId": "748e92c5-b3ef-4eae-8b29-193856f897d2",
        "colab": {
          "base_uri": "https://localhost:8080/"
        }
      },
      "execution_count": 61,
      "outputs": [
        {
          "output_type": "stream",
          "name": "stdout",
          "text": [
            "{'a': 15, 'b': 80, 'c': 35, 'd': 40}\n"
          ]
        }
      ]
    },
    {
      "cell_type": "code",
      "source": [
        "#Write a code to convert a list of strings into a set.\n",
        "\n",
        "my_set = {s for s in [1, 2, 3, 3, 4, 4, 5, 6, 6]}\n",
        "print(my_set)"
      ],
      "metadata": {
        "id": "qY5rH4q3aCwb",
        "outputId": "5364107a-872e-4d53-b16b-e9cba7f1b5ce",
        "colab": {
          "base_uri": "https://localhost:8080/"
        }
      },
      "execution_count": 66,
      "outputs": [
        {
          "output_type": "stream",
          "name": "stdout",
          "text": [
            "{1, 2, 3, 4, 5, 6}\n"
          ]
        }
      ]
    }
  ]
}